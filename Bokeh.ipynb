{
 "cells": [
  {
   "cell_type": "markdown",
   "id": "b1b42924-0413-4367-83dd-a57fbdf373e9",
   "metadata": {},
   "source": [
    "Que: how can you crteate a bokeh plot in python"
   ]
  },
  {
   "cell_type": "markdown",
   "id": "8e9f466f-6404-486e-b90e-167d8dddb70b",
   "metadata": {},
   "source": [
    "prepare the data . create a new plot. add renders for your data, with your visual customization for the data. specify where to generate the output(in html or in jupyter notebook. show the result."
   ]
  },
  {
   "cell_type": "markdown",
   "id": "923f1af6-24d6-4dd8-b382-dbf5d02080c2",
   "metadata": {},
   "source": [
    "Que : what are glyphs in bokeh , and how can you add them to a brokeh plot"
   ]
  },
  {
   "cell_type": "markdown",
   "id": "bc32c71b-aab6-46b4-82a3-984ea1caa9ed",
   "metadata": {},
   "source": [
    "Interactive Data Visualization in python with Brokeh.\n",
    "Aglyph is a vectorized graphical shape or market that is used to represent your data.\n",
    "you can display images on bokeh plots using the image().image_rgba(), and image_url()glyph method."
   ]
  },
  {
   "cell_type": "markdown",
   "id": "948653c6-11c6-4b4c-9c33-6cafee336a46",
   "metadata": {},
   "source": [
    "Que how can you customize the apperearance of a bokeh plot,including the axes , title, legend?"
   ]
  },
  {
   "cell_type": "markdown",
   "id": "ec826c51-1c77-4a03-8dbf-e94a10e3db93",
   "metadata": {},
   "source": [
    "using themes. resizing your plot . setting width and height. ebabling responsive plot sizing. customizing axes. setting youe axes appearance . defining axis ranges. customizing the grid . styling lines. using band and bounds. customizing the toolbar. positioning the toolbar. deactivating and hiding the toolbar. adding tooltips"
   ]
  },
  {
   "cell_type": "markdown",
   "id": "872b7dac-8e6a-496b-b50b-a947676b88bf",
   "metadata": {},
   "source": [
    "Que : what is a bokeh server, and how can you use it to create interactive plots that can be update in real time?"
   ]
  },
  {
   "cell_type": "markdown",
   "id": "cb4c16df-f201-4892-ab60-e8745779c926",
   "metadata": {},
   "source": [
    "bokeh server makes it easy to creat interactive web application that connect front_end UI events to running python code. to create a real time plot, we need to use the animation module in matplotlib"
   ]
  },
  {
   "cell_type": "markdown",
   "id": "5ad04fb4-d239-4280-9d4c-9df962f0af09",
   "metadata": {},
   "source": [
    "Que : how can you embed a bokeh plot into a web page or dashboard using flask or django"
   ]
  },
  {
   "cell_type": "code",
   "execution_count": null,
   "id": "7cb58723-d1a4-4671-b3aa-2323d2c7f39b",
   "metadata": {},
   "outputs": [],
   "source": [
    "you can achieve this with the server_document()function. this function accepts the URL to a bokeh serve"
   ]
  }
 ],
 "metadata": {
  "kernelspec": {
   "display_name": "Python 3 (ipykernel)",
   "language": "python",
   "name": "python3"
  },
  "language_info": {
   "codemirror_mode": {
    "name": "ipython",
    "version": 3
   },
   "file_extension": ".py",
   "mimetype": "text/x-python",
   "name": "python",
   "nbconvert_exporter": "python",
   "pygments_lexer": "ipython3",
   "version": "3.10.8"
  }
 },
 "nbformat": 4,
 "nbformat_minor": 5
}
